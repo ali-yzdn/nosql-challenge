{
 "cells": [
  {
   "cell_type": "markdown",
   "id": "9a57c4c6",
   "metadata": {},
   "source": [
    "# Eat Safe, Love"
   ]
  },
  {
   "cell_type": "markdown",
   "id": "064ef857",
   "metadata": {},
   "source": [
    "## Notebook Set Up"
   ]
  },
  {
   "cell_type": "code",
   "execution_count": 79,
   "id": "3ecdd008",
   "metadata": {},
   "outputs": [],
   "source": [
    "# Import dependencies\n",
    "from pymongo import MongoClient\n",
    "import pandas as pd\n",
    "from pprint import pprint"
   ]
  },
  {
   "cell_type": "code",
   "execution_count": 80,
   "id": "59390c4a",
   "metadata": {},
   "outputs": [],
   "source": [
    "# Create an instance of MongoClient\n",
    "mongo = MongoClient(port=27017)"
   ]
  },
  {
   "cell_type": "code",
   "execution_count": 81,
   "id": "71e373c1",
   "metadata": {},
   "outputs": [],
   "source": [
    "# assign the uk_food database to a variable name\n",
    "db = mongo['uk_food']"
   ]
  },
  {
   "cell_type": "code",
   "execution_count": 82,
   "id": "18ab463c",
   "metadata": {},
   "outputs": [
    {
     "name": "stdout",
     "output_type": "stream",
     "text": [
      "['establishments']\n"
     ]
    }
   ],
   "source": [
    "# review the collections in our database\n",
    "print(db.list_collection_names())"
   ]
  },
  {
   "cell_type": "code",
   "execution_count": 83,
   "id": "11c9f11b",
   "metadata": {},
   "outputs": [],
   "source": [
    "# assign the collection to a variable\n",
    "establishments = db['establishments']"
   ]
  },
  {
   "cell_type": "markdown",
   "id": "d5671434",
   "metadata": {},
   "source": [
    "## Part 3: Exploratory Analysis\n",
    "Unless otherwise stated, for each question: \n",
    "* Use `count_documents` to display the number of documents contained in the result.\n",
    "* Display the first document in the results using `pprint`.\n",
    "* Convert the result to a Pandas DataFrame, print the number of rows in the DataFrame, and display the first 10 rows."
   ]
  },
  {
   "cell_type": "markdown",
   "id": "314bd884",
   "metadata": {},
   "source": [
    "### 1. Which establishments have a hygiene score equal to 20?"
   ]
  },
  {
   "cell_type": "code",
   "execution_count": 84,
   "id": "c2da7648",
   "metadata": {},
   "outputs": [
    {
     "name": "stdout",
     "output_type": "stream",
     "text": [
      "Number of establishments with a hygiene score of 20: 41\n",
      "{'AddressLine1': '5-6 Southfields Road',\n",
      " 'AddressLine2': 'Eastbourne',\n",
      " 'AddressLine3': 'East Sussex',\n",
      " 'AddressLine4': '',\n",
      " 'BusinessName': 'The Chase Rest Home',\n",
      " 'BusinessType': 'Caring Premises',\n",
      " 'BusinessTypeID': 5,\n",
      " 'ChangesByServerID': 0,\n",
      " 'Distance': 4613.888288172291,\n",
      " 'FHRSID': 110681,\n",
      " 'LocalAuthorityBusinessID': '4029',\n",
      " 'LocalAuthorityCode': '102',\n",
      " 'LocalAuthorityEmailAddress': 'Customerfirst@eastbourne.gov.uk',\n",
      " 'LocalAuthorityName': 'Eastbourne',\n",
      " 'LocalAuthorityWebSite': 'http://www.eastbourne.gov.uk/foodratings',\n",
      " 'NewRatingPending': False,\n",
      " 'Phone': '',\n",
      " 'PostCode': 'BN21 1BU',\n",
      " 'RatingDate': '2021-09-23T00:00:00',\n",
      " 'RatingKey': 'fhrs_0_en-gb',\n",
      " 'RatingValue': 0,\n",
      " 'RightToReply': '',\n",
      " 'SchemeType': 'FHRS',\n",
      " '_id': ObjectId('66011c7fd4d870011cff80e3'),\n",
      " 'geocode': {'latitude': 50.769705, 'longitude': 0.27694},\n",
      " 'links': [{'href': 'https://api.ratings.food.gov.uk/establishments/110681',\n",
      "            'rel': 'self'}],\n",
      " 'meta': {'dataSource': None,\n",
      "          'extractDate': '0001-01-01T00:00:00',\n",
      "          'itemCount': 0,\n",
      "          'pageNumber': 0,\n",
      "          'pageSize': 0,\n",
      "          'returncode': None,\n",
      "          'totalCount': 0,\n",
      "          'totalPages': 0},\n",
      " 'scores': {'ConfidenceInManagement': 20, 'Hygiene': 20, 'Structural': 20}}\n"
     ]
    },
    {
     "name": "stderr",
     "output_type": "stream",
     "text": [
      "/var/folders/bf/0vmhxl6x4xn54k_fw54k_rkr0000gn/T/ipykernel_17459/846555771.py:5: DeprecationWarning: count is deprecated. Use Collection.count_documents instead.\n",
      "  print(\"Number of establishments with a hygiene score of 20:\", query.count())\n"
     ]
    }
   ],
   "source": [
    "# Find the establishments with a hygiene score of 20\n",
    "query = establishments.find({\"scores.Hygiene\": 20})\n",
    "\n",
    "# Use count_documents to display the number of documents in the result\n",
    "print(\"Number of establishments with a hygiene score of 20:\", query.count())\n",
    "# Display the first document in the results using pprint\n",
    "pprint(query[0])"
   ]
  },
  {
   "cell_type": "code",
   "execution_count": 85,
   "id": "a6e5cece",
   "metadata": {},
   "outputs": [
    {
     "name": "stdout",
     "output_type": "stream",
     "text": [
      "Number of rows in the DataFrame: 41\n",
      "                        _id   FHRSID  ChangesByServerID  \\\n",
      "0  66011c7fd4d870011cff80e3   110681                  0   \n",
      "1  66011c7fd4d870011cff8466   612039                  0   \n",
      "2  66011c7fd4d870011cff8773   730933                  0   \n",
      "3  66011c7fd4d870011cff8960   172735                  0   \n",
      "4  66011c7fd4d870011cff896d   172953                  0   \n",
      "5  66011c7fd4d870011cff9310   512854                  0   \n",
      "6  66011c7fd4d870011cff9531  1537089                  0   \n",
      "7  66011c80d4d870011cffaa65   155648                  0   \n",
      "8  66011c80d4d870011cffaea0  1012883                  0   \n",
      "9  66011c80d4d870011cffb6b1   644109                  0   \n",
      "\n",
      "  LocalAuthorityBusinessID               BusinessName  \\\n",
      "0                     4029        The Chase Rest Home   \n",
      "1                1970/FOOD                 Brenalwood   \n",
      "2                1698/FOOD              Melrose Hotel   \n",
      "3             PI/000023858              Seaford Pizza   \n",
      "4             PI/000024532              Golden Palace   \n",
      "5            12/00816/BUTH           Ashby's Butchers   \n",
      "6          22/00224/RESTUN  South Sea Express Cuisine   \n",
      "7              EH/00006058              Golden Palace   \n",
      "8         17/00110/MIXED/S             The Tulip Tree   \n",
      "9                    41811                      F & S   \n",
      "\n",
      "                        BusinessType  BusinessTypeID           AddressLine1  \\\n",
      "0                    Caring Premises               5   5-6 Southfields Road   \n",
      "1                    Caring Premises               5              Hall Lane   \n",
      "2  Hotel/bed & breakfast/guest house            7842  53 Marine Parade East   \n",
      "3             Takeaway/sandwich shop            7844          4 High Street   \n",
      "4            Restaurant/Cafe/Canteen               1         5 South Street   \n",
      "5                  Retailers - other            4613   777 Southchurch Road   \n",
      "6            Restaurant/Cafe/Canteen               1    33 Alexandra Street   \n",
      "7             Takeaway/sandwich shop            7844          7 London Road   \n",
      "8            Restaurant/Cafe/Canteen               1          3 The Village   \n",
      "9                  Retailers - other            4613                          \n",
      "\n",
      "         AddressLine2 AddressLine3  ...  \\\n",
      "0          Eastbourne  East Sussex  ...   \n",
      "1  Walton-on-the-Naze        Essex  ...   \n",
      "2      Clacton On Sea        Essex  ...   \n",
      "3             Seaford  East Sussex  ...   \n",
      "4             Seaford  East Sussex  ...   \n",
      "5     Southend-On-Sea        Essex  ...   \n",
      "6     Southend-on-sea        Essex  ...   \n",
      "7            Rayleigh        Essex  ...   \n",
      "8       Chiddingstone         KENT  ...   \n",
      "9      81 Southernhay     Basildon  ...   \n",
      "\n",
      "                      LocalAuthorityWebSite  \\\n",
      "0  http://www.eastbourne.gov.uk/foodratings   \n",
      "1             http://www.tendringdc.gov.uk/   \n",
      "2             http://www.tendringdc.gov.uk/   \n",
      "3       http://www.lewes-eastbourne.gov.uk/   \n",
      "4       http://www.lewes-eastbourne.gov.uk/   \n",
      "5                http://www.southend.gov.uk   \n",
      "6                http://www.southend.gov.uk   \n",
      "7                http://www.rochford.gov.uk   \n",
      "8              http://www.sevenoaks.gov.uk/   \n",
      "9                http://www.basildon.gov.uk   \n",
      "\n",
      "              LocalAuthorityEmailAddress  \\\n",
      "0        Customerfirst@eastbourne.gov.uk   \n",
      "1             fhsadmin@tendringdc.gov.uk   \n",
      "2             fhsadmin@tendringdc.gov.uk   \n",
      "3    ehealth.ldc@lewes-eastbourne.gov.uk   \n",
      "4    ehealth.ldc@lewes-eastbourne.gov.uk   \n",
      "5    EnvironmentalHealth@southend.gov.uk   \n",
      "6    EnvironmentalHealth@southend.gov.uk   \n",
      "7       customerservices@rochford.gov.uk   \n",
      "8  environmental.health@sevenoaks.gov.uk   \n",
      "9                    ehs@basildon.gov.uk   \n",
      "\n",
      "                                              scores  SchemeType  \\\n",
      "0  {'Hygiene': 20, 'Structural': 20, 'ConfidenceI...        FHRS   \n",
      "1  {'Hygiene': 20, 'Structural': 15, 'ConfidenceI...        FHRS   \n",
      "2  {'Hygiene': 20, 'Structural': 20, 'ConfidenceI...        FHRS   \n",
      "3  {'Hygiene': 20, 'Structural': 10, 'ConfidenceI...        FHRS   \n",
      "4  {'Hygiene': 20, 'Structural': 10, 'ConfidenceI...        FHRS   \n",
      "5  {'Hygiene': 20, 'Structural': 20, 'ConfidenceI...        FHRS   \n",
      "6  {'Hygiene': 20, 'Structural': 20, 'ConfidenceI...        FHRS   \n",
      "7  {'Hygiene': 20, 'Structural': 15, 'ConfidenceI...        FHRS   \n",
      "8  {'Hygiene': 20, 'Structural': 5, 'ConfidenceIn...        FHRS   \n",
      "9  {'Hygiene': 20, 'Structural': 20, 'ConfidenceI...        FHRS   \n",
      "\n",
      "                                             geocode RightToReply  \\\n",
      "0      {'longitude': 0.27694, 'latitude': 50.769705}                \n",
      "1     {'longitude': 1.278721, 'latitude': 51.857536}                \n",
      "2      {'longitude': 1.15927, 'latitude': 51.789429}                \n",
      "3      {'longitude': 0.10202, 'latitude': 50.770885}                \n",
      "4     {'longitude': 0.101446, 'latitude': 50.770724}                \n",
      "5     {'longitude': 0.736349, 'latitude': 51.541448}                \n",
      "6   {'longitude': 0.7121671, 'latitude': 51.5350065}                \n",
      "7     {'longitude': 0.602364, 'latitude': 51.591515}                \n",
      "8  {'longitude': 0.146449998021126, 'latitude': 5...                \n",
      "9      {'longitude': 0.462307, 'latitude': 51.57005}                \n",
      "\n",
      "      Distance NewRatingPending  \\\n",
      "0  4613.888288            False   \n",
      "1  4617.965824            False   \n",
      "2  4619.656144            False   \n",
      "3  4620.421725            False   \n",
      "4  4620.437179            False   \n",
      "5  4625.565258            False   \n",
      "6  4626.200132            False   \n",
      "7  4632.276890            False   \n",
      "8  4633.934041            False   \n",
      "9  4636.552523            False   \n",
      "\n",
      "                                                meta  \\\n",
      "0  {'dataSource': None, 'extractDate': '0001-01-0...   \n",
      "1  {'dataSource': None, 'extractDate': '0001-01-0...   \n",
      "2  {'dataSource': None, 'extractDate': '0001-01-0...   \n",
      "3  {'dataSource': None, 'extractDate': '0001-01-0...   \n",
      "4  {'dataSource': None, 'extractDate': '0001-01-0...   \n",
      "5  {'dataSource': None, 'extractDate': '0001-01-0...   \n",
      "6  {'dataSource': None, 'extractDate': '0001-01-0...   \n",
      "7  {'dataSource': None, 'extractDate': '0001-01-0...   \n",
      "8  {'dataSource': None, 'extractDate': '0001-01-0...   \n",
      "9  {'dataSource': None, 'extractDate': '0001-01-0...   \n",
      "\n",
      "                                               links  \n",
      "0  [{'rel': 'self', 'href': 'https://api.ratings....  \n",
      "1  [{'rel': 'self', 'href': 'https://api.ratings....  \n",
      "2  [{'rel': 'self', 'href': 'https://api.ratings....  \n",
      "3  [{'rel': 'self', 'href': 'https://api.ratings....  \n",
      "4  [{'rel': 'self', 'href': 'https://api.ratings....  \n",
      "5  [{'rel': 'self', 'href': 'https://api.ratings....  \n",
      "6  [{'rel': 'self', 'href': 'https://api.ratings....  \n",
      "7  [{'rel': 'self', 'href': 'http://api.ratings.f...  \n",
      "8  [{'rel': 'self', 'href': 'http://api.ratings.f...  \n",
      "9  [{'rel': 'self', 'href': 'http://api.ratings.f...  \n",
      "\n",
      "[10 rows x 28 columns]\n"
     ]
    }
   ],
   "source": [
    "# Convert the result to a Pandas DataFrame\n",
    "df_query = pd.DataFrame(list(query))\n",
    "# Display the number of rows in the DataFrame\n",
    "print(\"Number of rows in the DataFrame:\", len(df_query))\n",
    "# Display the first 10 rows of the DataFrame\n",
    "print(df_query.head(10))"
   ]
  },
  {
   "cell_type": "markdown",
   "id": "0ef4395a",
   "metadata": {},
   "source": [
    "### 2. Which establishments in London have a `RatingValue` greater than or equal to 4?"
   ]
  },
  {
   "cell_type": "code",
   "execution_count": 86,
   "id": "93c63829",
   "metadata": {},
   "outputs": [
    {
     "name": "stdout",
     "output_type": "stream",
     "text": [
      "Number of establishments in London with RatingValue >= 4: 0\n",
      "No establishments found.\n"
     ]
    },
    {
     "name": "stderr",
     "output_type": "stream",
     "text": [
      "/var/folders/bf/0vmhxl6x4xn54k_fw54k_rkr0000gn/T/ipykernel_17459/3717440569.py:5: DeprecationWarning: count is deprecated. Use Collection.count_documents instead.\n",
      "  count_query = query.count()\n"
     ]
    }
   ],
   "source": [
    "# Find the establishments with London as the Local Authority and has a RatingValue greater than or equal to 4.\n",
    "query = establishments.find({\"LocalAuthorityName\": \"London\", \"RatingValue\": {\"$gte\": 4}})\n",
    "\n",
    "# Use count_documents to display the number of documents in the result\n",
    "count_query = query.count()\n",
    "print(\"Number of establishments in London with RatingValue >= 4:\", count_query)\n",
    "\n",
    "# Display the first document in the results using pprint\n",
    "if count_query > 0:\n",
    "    pprint(next(query))\n",
    "else:\n",
    "    print(\"No establishments found.\")\n"
   ]
  },
  {
   "cell_type": "code",
   "execution_count": 88,
   "id": "07e24ccb",
   "metadata": {},
   "outputs": [
    {
     "name": "stdout",
     "output_type": "stream",
     "text": [
      "Number of rows in the DataFrame: 0\n",
      "Empty DataFrame\n",
      "Columns: []\n",
      "Index: []\n"
     ]
    }
   ],
   "source": [
    "# Convert the result to a Pandas DataFrame\n",
    "df_query = pd.DataFrame(list(query))\n",
    "# Display the number of rows in the DataFrame\n",
    "print(\"Number of rows in the DataFrame:\", len(df_query))\n",
    "# Display the first 10 rows of the DataFrame\n",
    "print(df_query.head(10))"
   ]
  },
  {
   "attachments": {},
   "cell_type": "markdown",
   "id": "4e570caf",
   "metadata": {},
   "source": [
    "### 3. What are the top 5 establishments with a `RatingValue` rating value of 5, sorted by lowest hygiene score, nearest to the new restaurant added, \"Penang Flavours\"?"
   ]
  },
  {
   "cell_type": "code",
   "execution_count": 89,
   "id": "ffb2775d",
   "metadata": {},
   "outputs": [
    {
     "name": "stdout",
     "output_type": "stream",
     "text": [
      "Number of establishments: 87\n",
      "Establishments sorted by hygiene score:\n",
      "                         _id   FHRSID  ChangesByServerID  \\\n",
      "0   66011c80d4d870011cffd919   695223                  0   \n",
      "1   66011c80d4d870011cffd92d  1380578                  0   \n",
      "2   66011c80d4d870011cffd94c   694609                  0   \n",
      "3   66011c80d4d870011cffd95e   695241                  0   \n",
      "4   66011c80d4d870011cffd963   909912                  0   \n",
      "..                       ...      ...                ...   \n",
      "82  66011c80d4d870011cffdba3  1300359                  0   \n",
      "83  66011c80d4d870011cffdbaa   694128                  0   \n",
      "84  66011c80d4d870011cffdc89   947998                  0   \n",
      "85  66011c80d4d870011cffdd42  1385142                  0   \n",
      "86  66011c80d4d870011cffdd46  1156702                  0   \n",
      "\n",
      "   LocalAuthorityBusinessID                                    BusinessName  \\\n",
      "0              PI/000178842                                         Iceland   \n",
      "1                     14425             Howe and Co Fish and Chips - Van 17   \n",
      "2              PI/000116619                                       Volunteer   \n",
      "3              PI/000179088                         Plumstead Manor Nursery   \n",
      "4              PI/000201100                 Lumbini Grocery Ltd T/A Al-Iman   \n",
      "..                      ...                                             ...   \n",
      "82                    13959                                    Brew Station   \n",
      "83             PI/000020389                                      Nisa Local   \n",
      "84             PI/000202511                            GMT Kitchen and Cafe   \n",
      "85                    14492  Heronsgate Primary School Royal Arsenal Campus   \n",
      "86                    12845                                   PLOT Roasting   \n",
      "\n",
      "                             BusinessType  BusinessTypeID  \\\n",
      "0   Retailers - supermarkets/hypermarkets            7840   \n",
      "1                          Mobile caterer            7846   \n",
      "2                       Pub/bar/nightclub            7843   \n",
      "3                         Caring Premises               5   \n",
      "4                       Retailers - other            4613   \n",
      "..                                    ...             ...   \n",
      "82                Restaurant/Cafe/Canteen               1   \n",
      "83                      Retailers - other            4613   \n",
      "84                Restaurant/Cafe/Canteen               1   \n",
      "85              School/college/university            7845   \n",
      "86                Other catering premises            7841   \n",
      "\n",
      "                                         AddressLine1 AddressLine2  \\\n",
      "0                     144 - 146 Plumstead High Street                \n",
      "1   Restaurant And Premises 107A Plumstead High St...                \n",
      "2                     130 - 132 Plumstead High Street                \n",
      "3                Plumstead Manor School Old Mill Road                \n",
      "4                                    17 Lakedale Road                \n",
      "..                                                ...          ...   \n",
      "82                                158A Plumstead Road                \n",
      "83                                    15 Brewery Road                \n",
      "84                                  95 Plumstead Road                \n",
      "85  Heronsgate Primary School Burrage Grove Campus...                \n",
      "86              Unit 38 The I O Centre Armstrong Road                \n",
      "\n",
      "   AddressLine3  ...             LocalAuthorityWebSite  \\\n",
      "0     Plumstead  ...  http://www.royalgreenwich.gov.uk   \n",
      "1     Plumstead  ...  http://www.royalgreenwich.gov.uk   \n",
      "2     Plumstead  ...  http://www.royalgreenwich.gov.uk   \n",
      "3     Plumstead  ...  http://www.royalgreenwich.gov.uk   \n",
      "4     Plumstead  ...  http://www.royalgreenwich.gov.uk   \n",
      "..          ...  ...                               ...   \n",
      "82     Woolwich  ...  http://www.royalgreenwich.gov.uk   \n",
      "83    Plumstead  ...  http://www.royalgreenwich.gov.uk   \n",
      "84     Woolwich  ...  http://www.royalgreenwich.gov.uk   \n",
      "85    Plumstead  ...  http://www.royalgreenwich.gov.uk   \n",
      "86     Woolwich  ...  http://www.royalgreenwich.gov.uk   \n",
      "\n",
      "      LocalAuthorityEmailAddress  \\\n",
      "0   health@royalgreenwich.gov.uk   \n",
      "1   health@royalgreenwich.gov.uk   \n",
      "2   health@royalgreenwich.gov.uk   \n",
      "3   health@royalgreenwich.gov.uk   \n",
      "4   health@royalgreenwich.gov.uk   \n",
      "..                           ...   \n",
      "82  health@royalgreenwich.gov.uk   \n",
      "83  health@royalgreenwich.gov.uk   \n",
      "84  health@royalgreenwich.gov.uk   \n",
      "85  health@royalgreenwich.gov.uk   \n",
      "86  health@royalgreenwich.gov.uk   \n",
      "\n",
      "                                               scores  SchemeType  \\\n",
      "0   {'Hygiene': 0, 'Structural': 5, 'ConfidenceInM...        FHRS   \n",
      "1   {'Hygiene': 0, 'Structural': 0, 'ConfidenceInM...        FHRS   \n",
      "2   {'Hygiene': 0, 'Structural': 0, 'ConfidenceInM...        FHRS   \n",
      "3   {'Hygiene': 0, 'Structural': 0, 'ConfidenceInM...        FHRS   \n",
      "4   {'Hygiene': 0, 'Structural': 5, 'ConfidenceInM...        FHRS   \n",
      "..                                                ...         ...   \n",
      "82  {'Hygiene': 5, 'Structural': 0, 'ConfidenceInM...        FHRS   \n",
      "83  {'Hygiene': 5, 'Structural': 0, 'ConfidenceInM...        FHRS   \n",
      "84  {'Hygiene': 5, 'Structural': 5, 'ConfidenceInM...        FHRS   \n",
      "85  {'Hygiene': 5, 'Structural': 5, 'ConfidenceInM...        FHRS   \n",
      "86  {'Hygiene': 5, 'Structural': 5, 'ConfidenceInM...        FHRS   \n",
      "\n",
      "                                              geocode RightToReply  \\\n",
      "0   {'longitude': 0.0924199968576431, 'latitude': ...                \n",
      "1   {'longitude': 0.0925370007753372, 'latitude': ...                \n",
      "2      {'longitude': 0.09208, 'latitude': 51.4873437}                \n",
      "3   {'longitude': 0.0859939977526665, 'latitude': ...                \n",
      "4    {'longitude': 0.0916256, 'latitude': 51.4871632}                \n",
      "..                                                ...          ...   \n",
      "82   {'longitude': 0.0846755, 'latitude': 51.4899426}                \n",
      "83   {'longitude': 0.0809311, 'latitude': 51.4861922}                \n",
      "84   {'longitude': 0.0787421, 'latitude': 51.4903331}                \n",
      "85  {'longitude': 0.074074998497963, 'latitude': 5...                \n",
      "86   {'longitude': 0.0770593, 'latitude': 51.4935863}                \n",
      "\n",
      "       Distance NewRatingPending  \\\n",
      "0   4646.946071            False   \n",
      "1   4646.955931            False   \n",
      "2   4646.965635            False   \n",
      "3   4646.974010            False   \n",
      "4   4646.975587            False   \n",
      "..          ...              ...   \n",
      "82  4647.330931            False   \n",
      "83  4647.330010            False   \n",
      "84  4647.561621            False   \n",
      "85  4647.714088            False   \n",
      "86  4647.742227            False   \n",
      "\n",
      "                                                 meta  \\\n",
      "0   {'dataSource': None, 'extractDate': '0001-01-0...   \n",
      "1   {'dataSource': None, 'extractDate': '0001-01-0...   \n",
      "2   {'dataSource': None, 'extractDate': '0001-01-0...   \n",
      "3   {'dataSource': None, 'extractDate': '0001-01-0...   \n",
      "4   {'dataSource': None, 'extractDate': '0001-01-0...   \n",
      "..                                                ...   \n",
      "82  {'dataSource': None, 'extractDate': '0001-01-0...   \n",
      "83  {'dataSource': None, 'extractDate': '0001-01-0...   \n",
      "84  {'dataSource': None, 'extractDate': '0001-01-0...   \n",
      "85  {'dataSource': None, 'extractDate': '0001-01-0...   \n",
      "86  {'dataSource': None, 'extractDate': '0001-01-0...   \n",
      "\n",
      "                                                links  \n",
      "0   [{'rel': 'self', 'href': 'http://api.ratings.f...  \n",
      "1   [{'rel': 'self', 'href': 'http://api.ratings.f...  \n",
      "2   [{'rel': 'self', 'href': 'http://api.ratings.f...  \n",
      "3   [{'rel': 'self', 'href': 'http://api.ratings.f...  \n",
      "4   [{'rel': 'self', 'href': 'http://api.ratings.f...  \n",
      "..                                                ...  \n",
      "82  [{'rel': 'self', 'href': 'http://api.ratings.f...  \n",
      "83  [{'rel': 'self', 'href': 'http://api.ratings.f...  \n",
      "84  [{'rel': 'self', 'href': 'http://api.ratings.f...  \n",
      "85  [{'rel': 'self', 'href': 'http://api.ratings.f...  \n",
      "86  [{'rel': 'self', 'href': 'http://api.ratings.f...  \n",
      "\n",
      "[87 rows x 28 columns]\n"
     ]
    }
   ],
   "source": [
    "# Define the latitude and longitude range\n",
    "latitude_range = {\"$gte\": 51.490142 - 0.01, \"$lte\": 51.490142 + 0.01}\n",
    "longitude_range = {\"$gte\": 0.08384 - 0.01, \"$lte\": 0.08384 + 0.01}\n",
    "\n",
    "# Query establishments within the specified latitude and longitude range, with RatingValue equals 5\n",
    "nearest_establishments = establishments.find({\n",
    "    \"geocode.latitude\": latitude_range,\n",
    "    \"geocode.longitude\": longitude_range,\n",
    "    \"RatingValue\": 5\n",
    "}).sort(\"scores.Hygiene\")\n",
    "\n",
    "# Convert the result to a Pandas DataFrame\n",
    "df_nearest_establishments = pd.DataFrame(list(nearest_establishments))\n",
    "\n",
    "# Display the number of rows in the DataFrame\n",
    "num_rows = df_nearest_establishments.shape[0]\n",
    "print(\"Number of establishments:\", num_rows)\n",
    "\n",
    "# Display the DataFrame sorted by hygiene score\n",
    "print(\"Establishments sorted by hygiene score:\")\n",
    "print(df_nearest_establishments)"
   ]
  },
  {
   "cell_type": "code",
   "execution_count": null,
   "id": "7f599f3d",
   "metadata": {},
   "outputs": [],
   "source": [
    "# Search within 0.01 degree on either side of the latitude and longitude.\n",
    "# Rating value must equal 5\n",
    "# Sort by hygiene score\n",
    "\n",
    "degree_search = 0.01\n",
    "latitude =\n",
    "longitude =\n",
    "\n",
    "query =\n",
    "sort =\n",
    "limit =\n",
    "\n",
    "# Print the results\n"
   ]
  },
  {
   "cell_type": "code",
   "execution_count": null,
   "id": "a6ad16f7",
   "metadata": {},
   "outputs": [],
   "source": [
    "# Convert result to Pandas DataFrame\n"
   ]
  },
  {
   "cell_type": "markdown",
   "id": "67281254",
   "metadata": {},
   "source": [
    "### 4. How many establishments in each Local Authority area have a hygiene score of 0?"
   ]
  },
  {
   "cell_type": "code",
   "execution_count": null,
   "id": "4eeb227e",
   "metadata": {},
   "outputs": [],
   "source": [
    "# Create a pipeline that:\n",
    "# 1. Matches establishments with a hygiene score of 0\n",
    "# 2. Groups the matches by Local Authority\n",
    "# 3. Sorts the matches from highest to lowest\n",
    "\n",
    "# Print the number of documents in the result\n",
    "\n",
    "# Print the first 10 results\n"
   ]
  },
  {
   "cell_type": "code",
   "execution_count": null,
   "id": "d8aab364",
   "metadata": {},
   "outputs": [],
   "source": [
    "# Convert the result to a Pandas DataFrame\n",
    "\n",
    "# Display the number of rows in the DataFrame\n",
    "\n",
    "# Display the first 10 rows of the DataFrame\n"
   ]
  }
 ],
 "metadata": {
  "kernelspec": {
   "display_name": "Python 3 (ipykernel)",
   "language": "python",
   "name": "python3"
  },
  "language_info": {
   "codemirror_mode": {
    "name": "ipython",
    "version": 3
   },
   "file_extension": ".py",
   "mimetype": "text/x-python",
   "name": "python",
   "nbconvert_exporter": "python",
   "pygments_lexer": "ipython3",
   "version": "3.10.4"
  }
 },
 "nbformat": 4,
 "nbformat_minor": 5
}
